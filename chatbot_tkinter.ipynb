{
 "cells": [
  {
   "cell_type": "markdown",
   "metadata": {},
   "source": [
    "## Chatbot with tkinter"
   ]
  },
  {
   "cell_type": "markdown",
   "metadata": {},
   "source": [
    "Here we gonna build a simple chatbot using *tkinter* package. Lets first load our model and other necessary files."
   ]
  },
  {
   "cell_type": "code",
   "execution_count": 15,
   "metadata": {},
   "outputs": [],
   "source": [
    "import pickle\n",
    "import numpy as np\n",
    "import tensorflow as tf\n",
    "from tensorflow import keras\n",
    "import json\n",
    "import random"
   ]
  },
  {
   "cell_type": "code",
   "execution_count": 16,
   "metadata": {},
   "outputs": [],
   "source": [
    "model = keras.models.load_model('chatbot_model.h5')\n",
    "intents = json.loads(open('intents.json').read())\n",
    "vectorizer = pickle.load(open('vectorizer.pkl', 'rb'))\n",
    "lencoder = pickle.load(open('lencoder.pkl', 'rb'))"
   ]
  },
  {
   "cell_type": "markdown",
   "metadata": {},
   "source": [
    "First we have to define a function which will be used to predict the tag for our sentence."
   ]
  },
  {
   "cell_type": "code",
   "execution_count": 17,
   "metadata": {},
   "outputs": [],
   "source": [
    "def predict_class(sentence, vectorizer, lencoder, model):\n",
    "    yhat = model.predict(vectorizer.transform([sentence]).todense())\n",
    "    tag = lencoder.inverse_transform([np.argmax(yhat)])[0]\n",
    "    pred = {'tag': tag, 'prob': np.round(np.max(yhat), 2)}\n",
    "    return pred"
   ]
  },
  {
   "cell_type": "markdown",
   "metadata": {},
   "source": [
    "We will also need a function which can randomly pick up the response of the chatbot based on the predicted tag."
   ]
  },
  {
   "cell_type": "code",
   "execution_count": 18,
   "metadata": {},
   "outputs": [],
   "source": [
    "def chatbot_response(sentence, vectorizer, lencoder, model, intents):\n",
    "    pred = predict_class(sentence, vectorizer, lencoder, model)\n",
    "    for i in intents['intents']:\n",
    "        if i['tag'] == pred['tag']:\n",
    "            result = random.choice(i['responses'])\n",
    "            break\n",
    "    return result"
   ]
  },
  {
   "cell_type": "markdown",
   "metadata": {},
   "source": [
    "Now we can build a simple chatbot. It will consist of the *Send* button which will call a *send* function after user enters any sentence in the text field. This text will be read and preprocessed in the *predict_class* function which will also predict the tag. Based on this tag *chatbot_response* function will choose a random response and print it in the text field."
   ]
  },
  {
   "cell_type": "code",
   "execution_count": 19,
   "metadata": {},
   "outputs": [],
   "source": [
    "import tkinter\n",
    "from tkinter import *"
   ]
  },
  {
   "cell_type": "code",
   "execution_count": 20,
   "metadata": {},
   "outputs": [],
   "source": [
    "def send():\n",
    "    msg = EntryBox.get('1.0', 'end-1c').strip()\n",
    "    EntryBox.delete('0.0', END)\n",
    "    \n",
    "    if msg != '':\n",
    "        ChatLog.config(state=NORMAL)\n",
    "        ChatLog.insert(END, 'You: ' + msg + '\\n\\n')\n",
    "        ChatLog.config(foreground='#442265', font=('Verdana, 12'))\n",
    "        res = chatbot_response(msg, vectorizer, lencoder, model, intents)\n",
    "        ChatLog.insert(END, 'Bot: ' + res + '\\n\\n')\n",
    "        ChatLog.config(state=DISABLED)\n",
    "        ChatLog.yview(END)"
   ]
  },
  {
   "cell_type": "code",
   "execution_count": 21,
   "metadata": {},
   "outputs": [],
   "source": [
    "base = Tk()\n",
    "base.title('Hello')\n",
    "base.geometry('400x500')\n",
    "base.resizable(width=FALSE, height=FALSE)\n",
    "ChatLog = Text(base, bd=0, bg='white', height='8', width='50', font='Arial')\n",
    "ChatLog.config(state=DISABLED)\n",
    "scrollbar = Scrollbar(base, command=ChatLog.yview, cursor='heart')\n",
    "ChatLog['yscrollcommand'] = scrollbar.set\n",
    "SendButton = Button(base, font=('Verdana',12,'bold'), text='Send',\n",
    "                    width='12', height='5', bd=0, bg='#32de97',\n",
    "                    activebackground='#3c9d9b', fg='#ffffff', command=send)\n",
    "EntryBox = Text(base, bd=0, bg='white', width='29', height='5', font='Arial')\n",
    "scrollbar.place(x=376,y=6,height=386)\n",
    "ChatLog.place(x=6,y=6,height=386,width=370)\n",
    "EntryBox.place(x=128,y=401,height=90,width=265)\n",
    "SendButton.place(x=6,y=401,height=90)"
   ]
  },
  {
   "cell_type": "code",
   "execution_count": 22,
   "metadata": {},
   "outputs": [],
   "source": [
    "base.mainloop()"
   ]
  }
 ],
 "metadata": {
  "kernelspec": {
   "display_name": "Python 3",
   "language": "python",
   "name": "python3"
  },
  "language_info": {
   "codemirror_mode": {
    "name": "ipython",
    "version": 3
   },
   "file_extension": ".py",
   "mimetype": "text/x-python",
   "name": "python",
   "nbconvert_exporter": "python",
   "pygments_lexer": "ipython3",
   "version": "3.8.5"
  }
 },
 "nbformat": 4,
 "nbformat_minor": 4
}
